{
  "nbformat": 4,
  "nbformat_minor": 0,
  "metadata": {
    "colab": {
      "provenance": [],
      "authorship_tag": "ABX9TyOv4i1hDovwm6G2+vK80BKU",
      "include_colab_link": true
    },
    "kernelspec": {
      "name": "python3",
      "display_name": "Python 3"
    },
    "language_info": {
      "name": "python"
    }
  },
  "cells": [
    {
      "cell_type": "markdown",
      "metadata": {
        "id": "view-in-github",
        "colab_type": "text"
      },
      "source": [
        "<a href=\"https://colab.research.google.com/github/keshavkundra/Machine-learing/blob/main/ASSINMENT3(KESHAV).ipynb\" target=\"_parent\"><img src=\"https://colab.research.google.com/assets/colab-badge.svg\" alt=\"Open In Colab\"/></a>"
      ]
    },
    {
      "cell_type": "markdown",
      "source": [
        "Load the dataset and Implement 5- fold cross validation for multiple linear regression\n",
        "(using least square error fit).\n",
        "Steps:\n",
        "a) Divide the dataset into input features (all columns except price) and output variable\n",
        "(price)\n",
        "b) Scale the values of input features.\n",
        "c) Divide input and output features into five folds.\n",
        "d) Run five iterations, in each iteration consider one-fold as test set and remaining\n",
        "four sets as training set. Find the beta (𝛽) matrix, predicted values, and R2_score\n",
        "for each iteration using least square error fit.\n",
        "e) Use the best value of (𝛽) matrix (for which R2_score is maximum), to train the\n",
        "regressor for 70% of data and test the performance for remaining 30% data"
      ],
      "metadata": {
        "id": "jMlopMRT3zHU"
      }
    },
    {
      "cell_type": "code",
      "source": [
        "# 1. Import libraries\n",
        "import pandas as pd\n",
        "import numpy as np\n",
        "from sklearn.preprocessing import StandardScaler\n",
        "from sklearn.metrics import r2_score\n",
        "from sklearn.model_selection import train_test_split\n",
        "\n",
        "# 2. Load the dataset\n",
        "df = pd.read_csv('house_prices.csv')  # Make sure this matches your filename\n",
        "print(\"Dataset shape:\", df.shape)\n",
        "print(\"Columns:\", df.columns.tolist())\n",
        "\n",
        "# 3. Features (X) and target (y)\n",
        "X = df.drop(columns=['Price'])\n",
        "y = df['Price'].values.reshape(-1, 1)\n",
        "\n",
        "# 4. Standardize features\n",
        "scaler = StandardScaler()\n",
        "X_scaled = scaler.fit_transform(X)\n",
        "\n",
        "# 5. Prepare 5 folds\n",
        "n = X_scaled.shape[0]\n",
        "indices = np.arange(n)\n",
        "np.random.shuffle(indices)\n",
        "folds = np.array_split(indices, 5)\n",
        "\n",
        "best_r2 = -np.inf\n",
        "best_beta = None\n",
        "\n",
        "# 6. 5-fold cross-validation\n",
        "for i in range(5):\n",
        "    test_idx = folds[i]\n",
        "    train_idx = np.hstack([f for j, f in enumerate(folds) if j != i])\n",
        "\n",
        "    X_train, X_test = X_scaled[train_idx], X_scaled[test_idx]\n",
        "    y_train, y_test = y[train_idx], y[test_idx]\n",
        "\n",
        "    # Add intercept columns\n",
        "    X_tr = np.hstack([np.ones((X_train.shape[0], 1)), X_train])\n",
        "    X_te = np.hstack([np.ones((X_test.shape[0], 1)), X_test])\n",
        "\n",
        "    # Compute beta: β = (XᵀX)⁻¹ Xᵀy\n",
        "    beta = np.linalg.inv(X_tr.T @ X_tr) @ X_tr.T @ y_train\n",
        "    y_pred = X_te @ beta\n",
        "    r2 = r2_score(y_test, y_pred)\n",
        "    print(f\"Fold {i+1} R²: {r2:.4f}\")\n",
        "\n",
        "    if r2 > best_r2:\n",
        "        best_r2 = r2\n",
        "        best_beta = beta.copy()\n",
        "\n",
        "print(f\"\\nBest R² from CV folds: {best_r2:.4f}\")\n",
        "\n",
        "# 7. Train-test split (70/30) using best beta\n",
        "X_train_full, X_test_full, y_train_full, y_test_full = train_test_split(\n",
        "    X_scaled, y, test_size=0.3, random_state=42\n",
        ")\n",
        "X_tr_full = np.hstack([np.ones((X_train_full.shape[0], 1)), X_train_full])\n",
        "X_te_full = np.hstack([np.ones((X_test_full.shape[0], 1)), X_test_full])\n",
        "\n",
        "y_pred_full = X_te_full @ best_beta\n",
        "r2_full = r2_score(y_test_full, y_pred_full)\n",
        "print(f\"70/30 split R² using best beta: {r2_full:.4f}\")\n"
      ],
      "metadata": {
        "colab": {
          "base_uri": "https://localhost:8080/"
        },
        "id": "QJ0F76-C5wDv",
        "outputId": "fb322db3-03cb-42df-e4a1-171598b6e273"
      },
      "execution_count": 67,
      "outputs": [
        {
          "output_type": "stream",
          "name": "stdout",
          "text": [
            "Dataset shape: (5000, 6)\n",
            "Columns: ['Avg. Area Income', 'Avg. Area House Age', 'Avg. Area Number of Rooms', 'Avg. Area Number of Bedrooms', 'Area Population', 'Price']\n",
            "Fold 1 R²: 0.9123\n",
            "Fold 2 R²: 0.9164\n",
            "Fold 3 R²: 0.9196\n",
            "Fold 4 R²: 0.9200\n",
            "Fold 5 R²: 0.9199\n",
            "\n",
            "Best R² from CV folds: 0.9200\n",
            "70/30 split R² using best beta: 0.9148\n"
          ]
        }
      ]
    },
    {
      "cell_type": "markdown",
      "source": [
        "2 Concept of Validation set for Multiple Linear Regression (Gradient Descent\n",
        "Optimization)\n",
        "Consider the same dataset of Q1, rather than dividing the dataset into five folds, divide the\n",
        "dataset into training set (56%), validation set (14%), and test set (30%).\n",
        "Consider four different values of learning rate i.e. {0.001,0.01,0.1,1}. Compute the values of\n",
        "regression coefficients for each value of learning rate after 1000 iterations.\n",
        "For each set of regression coefficients, compute R2_score for validation and test set and find\n",
        "the best value of regression coefficients."
      ],
      "metadata": {
        "id": "uwiQsLV76EmW"
      }
    },
    {
      "cell_type": "code",
      "source": [
        "import pandas as pd\n",
        "import numpy as np\n",
        "from sklearn.preprocessing import StandardScaler\n",
        "from sklearn.metrics import r2_score\n",
        "from sklearn.model_selection import train_test_split\n",
        "\n",
        "# Load dataset\n",
        "df = pd.read_csv('house_prices.csv')\n",
        "print(\"Dataset shape:\", df.shape)\n",
        "print(\"Columns:\", df.columns.tolist())\n",
        "\n",
        "# Define features (X) and target (y)\n",
        "X = df.drop(columns=['Price'])\n",
        "y = df['Price'].values.reshape(-1, 1)\n",
        "\n",
        "# Standardize features\n",
        "scaler = StandardScaler()\n",
        "X_scaled = scaler.fit_transform(X)\n",
        "\n",
        "# Split data into training (56%), validation (14%), and test (30%) sets\n",
        "X_train, X_temp, y_train, y_temp = train_test_split(X_scaled, y, test_size=0.44, random_state=42)\n",
        "X_val, X_test, y_val, y_test = train_test_split(X_temp, y_temp, test_size=0.68, random_state=42)\n",
        "\n",
        "# Add intercept term (bias) to the feature matrices\n",
        "X_train = np.hstack([np.ones((X_train.shape[0], 1)), X_train])\n",
        "X_val = np.hstack([np.ones((X_val.shape[0], 1)), X_val])\n",
        "X_test = np.hstack([np.ones((X_test.shape[0], 1)), X_test])\n",
        "\n",
        "# Gradient Descent function\n",
        "def gradient_descent(X, y, learning_rate, iterations):\n",
        "    m = X.shape[0]\n",
        "    n = X.shape[1]\n",
        "    beta = np.zeros((n, 1))\n",
        "    for _ in range(iterations):\n",
        "        gradient = (2/m) * X.T @ (X @ beta - y)\n",
        "        beta -= learning_rate * gradient\n",
        "    return beta\n",
        "\n",
        "# Initialize variables to track the best model\n",
        "best_r2_val = -np.inf\n",
        "best_r2_test = -np.inf\n",
        "best_beta = None\n",
        "best_lr = None\n",
        "\n",
        "# Test different learning rates\n",
        "learning_rates = [0.001, 0.01, 0.1, 1]\n",
        "iterations = 1000\n",
        "\n",
        "for lr in learning_rates:\n",
        "    print(f\"Training with learning rate: {lr}\")\n",
        "    beta = gradient_descent(X_train, y_train, lr, iterations)\n",
        "\n",
        "    # Predict on validation set\n",
        "    y_val_pred = X_val @ beta\n",
        "    r2_val = r2_score(y_val, y_val_pred)\n",
        "\n",
        "    # Predict on test set\n",
        "    y_test_pred = X_test @ beta\n",
        "    r2_test = r2_score(y_test, y_test_pred)\n",
        "\n",
        "    print(f\"Validation R²: {r2_val:.4f}, Test R²: {r2_test:.4f}\")\n",
        "\n",
        "    # Update best model if current model is better\n",
        "    if r2_val > best_r2_val:\n",
        "        best_r2_val = r2_val\n",
        "        best_r2_test = r2_test\n",
        "        best_beta = beta\n",
        "        best_lr = lr\n",
        "\n",
        "# Output the best model details\n",
        "print(\"\\nBest Model:\")\n",
        "print(f\"Learning Rate: {best_lr}\")\n",
        "print(f\"Validation R²: {best_r2_val:.4f}\")\n",
        "print(f\"Test R²: {best_r2_test:.4f}\")\n",
        "print(\"Best Beta Coefficients:\")\n",
        "print(best_beta)\n"
      ],
      "metadata": {
        "colab": {
          "base_uri": "https://localhost:8080/"
        },
        "id": "lmYNV2yK6Jl9",
        "outputId": "1043c02c-1b03-495a-838e-f4d67971694a"
      },
      "execution_count": 68,
      "outputs": [
        {
          "output_type": "stream",
          "name": "stdout",
          "text": [
            "Dataset shape: (5000, 6)\n",
            "Columns: ['Avg. Area Income', 'Avg. Area House Age', 'Avg. Area Number of Rooms', 'Avg. Area Number of Bedrooms', 'Area Population', 'Price']\n",
            "Training with learning rate: 0.001\n",
            "Validation R²: 0.6467, Test R²: 0.6531\n",
            "Training with learning rate: 0.01\n",
            "Validation R²: 0.9202, Test R²: 0.9133\n",
            "Training with learning rate: 0.1\n",
            "Validation R²: 0.9202, Test R²: 0.9133\n",
            "Training with learning rate: 1\n",
            "Validation R²: -inf, Test R²: -inf\n",
            "\n",
            "Best Model:\n",
            "Learning Rate: 0.1\n",
            "Validation R²: 0.9202\n",
            "Test R²: 0.9133\n",
            "Best Beta Coefficients:\n",
            "[[1232180.27200919]\n",
            " [ 230645.88389435]\n",
            " [ 165328.94019375]\n",
            " [ 120045.00851908]\n",
            " [   2945.02108903]\n",
            " [ 151375.22971285]]\n"
          ]
        },
        {
          "output_type": "stream",
          "name": "stderr",
          "text": [
            "/usr/local/lib/python3.12/dist-packages/sklearn/metrics/_regression.py:1275: RuntimeWarning: overflow encountered in square\n",
            "  numerator = xp.sum(weight * (y_true - y_pred) ** 2, axis=0)\n",
            "/usr/local/lib/python3.12/dist-packages/sklearn/metrics/_regression.py:1275: RuntimeWarning: overflow encountered in square\n",
            "  numerator = xp.sum(weight * (y_true - y_pred) ** 2, axis=0)\n"
          ]
        }
      ]
    }
  ]
}